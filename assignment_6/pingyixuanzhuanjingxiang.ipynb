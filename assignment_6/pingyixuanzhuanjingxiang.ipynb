{
 "cells": [
  {
   "cell_type": "code",
   "execution_count": 2,
   "id": "f3886971",
   "metadata": {},
   "outputs": [],
   "source": [
    "import cv2 as cv\n",
    "import numpy as np"
   ]
  },
  {
   "cell_type": "code",
   "execution_count": 1,
   "id": "3ab02152",
   "metadata": {},
   "outputs": [
    {
     "data": {
      "text/plain": [
       "-1"
      ]
     },
     "execution_count": 1,
     "metadata": {},
     "output_type": "execute_result"
    }
   ],
   "source": [
    "import cv2\n",
    "import math\n",
    "import numpy as np\n",
    "def move(img):\n",
    "    height, width, channels = img.shape\n",
    "    emptyImage2 = img.copy()\n",
    "    x=20\n",
    "    y=20\n",
    "    for i in range(height):\n",
    "        for j in range(width):\n",
    "            if i>=x and j>=y:\n",
    "                emptyImage2[i,j]=img[i-x][j-y]\n",
    "            else:\n",
    "                emptyImage2[i,j]=(0,0,0)\n",
    " \n",
    " \n",
    "    return emptyImage2\n",
    " \n",
    " \n",
    "img = cv2.imread(\"lena.png\")\n",
    "\n",
    "SaltImage=move(img)\n",
    "cv2.imshow(\"Image\",img)\n",
    "cv2.imshow(\"ss\",SaltImage)\n",
    "cv2.waitKey(0)\n",
    " "
   ]
  },
  {
   "cell_type": "code",
   "execution_count": 4,
   "id": "b1f8528c",
   "metadata": {},
   "outputs": [
    {
     "data": {
      "text/plain": [
       "-1"
      ]
     },
     "execution_count": 4,
     "metadata": {},
     "output_type": "execute_result"
    }
   ],
   "source": [
    "import cv2\n",
    "import math\n",
    "import numpy as np\n",
    "def XRotate(image, angle):\n",
    "    h, w, channels = image.shape\n",
    "    anglePi = angle * math.pi / 180.0\n",
    "    cosA = math.cos(anglePi)\n",
    "    sinA = math.sin(anglePi)\n",
    "    X1 = math.ceil(abs(0.5 * h * cosA + 0.5 * w * sinA))\n",
    "    X2 = math.ceil(abs(0.5 * h * cosA - 0.5 * w * sinA))\n",
    "    Y1 = math.ceil(abs(-0.5 * h * sinA + 0.5 * w * cosA))\n",
    "    Y2 = math.ceil(abs(-0.5 * h * sinA - 0.5 * w * cosA))\n",
    "    hh = int(2 * max(Y1, Y2))\n",
    "    ww = int(2 * max(X1, X2))\n",
    "    emptyImage2 = np.zeros((hh, ww, channels), np.uint8)\n",
    "    for i in range(hh):\n",
    "        for j in range(ww):\n",
    "            x = cosA * i + sinA * j - 0.5 * ww * cosA - 0.5 * hh * sinA + 0.5 * w\n",
    "            y =  cosA * j- sinA * i+ 0.5 * ww * sinA - 0.5 * hh * cosA + 0.5 * h\n",
    "            x = int(x)\n",
    "            y = int(y)\n",
    "            if x > -1 and x < h and y > -1 and y < w :\n",
    " \n",
    "                emptyImage2[i, j] = image[x, y]\n",
    " \n",
    "    return emptyImage2\n",
    " \n",
    " \n",
    "image = cv2.imread(\"lena.png\")\n",
    "iXRotate12 = XRotate(image, 30)\n",
    "\n",
    "cv2.imshow('image', image)\n",
    "cv2.imshow('iXRotate12', iXRotate12)\n",
    "cv2.waitKey(0)"
   ]
  },
  {
   "cell_type": "code",
   "execution_count": 3,
   "id": "0bd27d26",
   "metadata": {},
   "outputs": [
    {
     "ename": "AttributeError",
     "evalue": "module 'cv2' has no attribute 'waitkey'",
     "output_type": "error",
     "traceback": [
      "\u001b[1;31m---------------------------------------------------------------------------\u001b[0m",
      "\u001b[1;31mAttributeError\u001b[0m                            Traceback (most recent call last)",
      "Input \u001b[1;32mIn [3]\u001b[0m, in \u001b[0;36m<cell line: 24>\u001b[1;34m()\u001b[0m\n\u001b[0;32m     22\u001b[0m     dst[height, i] \u001b[38;5;241m=\u001b[39m (\u001b[38;5;241m0\u001b[39m, \u001b[38;5;241m0\u001b[39m, \u001b[38;5;241m255\u001b[39m)\n\u001b[0;32m     23\u001b[0m cv2\u001b[38;5;241m.\u001b[39mimshow(\u001b[38;5;124m'\u001b[39m\u001b[38;5;124mdst\u001b[39m\u001b[38;5;124m'\u001b[39m, dst)\n\u001b[1;32m---> 24\u001b[0m \u001b[43mcv2\u001b[49m\u001b[38;5;241;43m.\u001b[39;49m\u001b[43mwaitkey\u001b[49m(\u001b[38;5;241m0\u001b[39m)\n",
      "\u001b[1;31mAttributeError\u001b[0m: module 'cv2' has no attribute 'waitkey'"
     ]
    }
   ],
   "source": [
    "import cv2\n",
    "import numpy as np\n",
    "img = cv2.imread('lena.png',1)\n",
    "cv2.imshow('lena.png', img)\n",
    "imgInfo = img.shape\n",
    "height = imgInfo[0]\n",
    "width = imgInfo[1]\n",
    "#描述每个像素由多少个颜色组成\n",
    "deep= imgInfo[2]\n",
    "#新图片的信息，将画布高度变为2倍\n",
    "newImgInfo = (height*2, width, deep)\n",
    "#定义目标图片矩阵,uint8需要np前缀\n",
    "dst = np.zeros(newImgInfo,np.uint8) #uint8\n",
    "\n",
    "for i in range(0,height):\n",
    "    for j in range(0,width):\n",
    "        dst[i,j] = img[i, j]\n",
    "        #打印下半部分的像素，与上半部分对称\n",
    "        dst[height*2-i-1, j] = img[i, j]\n",
    "#在上下部分之间添加红色分隔线 ，颜色组成gbr    \n",
    "for i in range(0, width):\n",
    "    dst[height, i] = (0, 0, 255)\n",
    "cv2.imshow('dst', dst)\n",
    "cv2.waitkey(0)\n"
   ]
  },
  {
   "cell_type": "code",
   "execution_count": null,
   "id": "607cea6b",
   "metadata": {},
   "outputs": [],
   "source": []
  }
 ],
 "metadata": {
  "kernelspec": {
   "display_name": "Python 3 (ipykernel)",
   "language": "python",
   "name": "python3"
  },
  "language_info": {
   "codemirror_mode": {
    "name": "ipython",
    "version": 3
   },
   "file_extension": ".py",
   "mimetype": "text/x-python",
   "name": "python",
   "nbconvert_exporter": "python",
   "pygments_lexer": "ipython3",
   "version": "3.10.1"
  }
 },
 "nbformat": 4,
 "nbformat_minor": 5
}
